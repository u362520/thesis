{
  "nbformat": 4,
  "nbformat_minor": 0,
  "metadata": {
    "anaconda-cloud": {},
    "kernelspec": {
      "display_name": "Python [conda env:Anaconda2]",
      "language": "python",
      "name": "conda-env-Anaconda2-py"
    },
    "language_info": {
      "codemirror_mode": {
        "name": "ipython",
        "version": 2
      },
      "file_extension": ".py",
      "mimetype": "text/x-python",
      "name": "python",
      "nbconvert_exporter": "python",
      "pygments_lexer": "ipython2",
      "version": "2.7.12"
    },
    "colab": {
      "name": "Naive-Bayes.ipynb",
      "provenance": [],
      "collapsed_sections": [],
      "toc_visible": true
    }
  },
  "cells": [
    {
      "cell_type": "markdown",
      "metadata": {
        "id": "9Y7JweQcxwAN",
        "colab_type": "text"
      },
      "source": [
        "## Naive Bayes\n",
        "Importing all relevant libraries for Data Preparation (importing and cleaning), EDA, ML Model Implementation and Results Evaluation."
      ]
    },
    {
      "cell_type": "code",
      "metadata": {
        "id": "L2f03JvkxwAU",
        "colab_type": "code",
        "outputId": "5601a333-bfbb-4f7b-ce6d-e4dcf396687e",
        "colab": {
          "base_uri": "https://localhost:8080/",
          "height": 34
        }
      },
      "source": [
        "%pylab inline"
      ],
      "execution_count": 0,
      "outputs": [
        {
          "output_type": "stream",
          "text": [
            "Populating the interactive namespace from numpy and matplotlib\n"
          ],
          "name": "stdout"
        }
      ]
    },
    {
      "cell_type": "code",
      "metadata": {
        "id": "06JGbLdBzkcG",
        "colab_type": "code",
        "colab": {}
      },
      "source": [
        "import sys\n",
        "sys.path.append('/content/drive/My Drive/Colab Notebooks/Code1/tools.py')"
      ],
      "execution_count": 0,
      "outputs": []
    },
    {
      "cell_type": "code",
      "metadata": {
        "id": "vC4NXrJ6zkai",
        "colab_type": "code",
        "outputId": "44a628a3-85ec-477f-da07-73bad6e84c52",
        "colab": {
          "base_uri": "https://localhost:8080/",
          "height": 316
        }
      },
      "source": [
        ""
      ],
      "execution_count": 0,
      "outputs": [
        {
          "output_type": "error",
          "ename": "ModuleNotFoundError",
          "evalue": "ignored",
          "traceback": [
            "\u001b[0;31m---------------------------------------------------------------------------\u001b[0m",
            "\u001b[0;31mModuleNotFoundError\u001b[0m                       Traceback (most recent call last)",
            "\u001b[0;32m<ipython-input-40-eb083f12a53a>\u001b[0m in \u001b[0;36m<module>\u001b[0;34m()\u001b[0m\n\u001b[0;32m----> 1\u001b[0;31m \u001b[0;32mimport\u001b[0m \u001b[0mmylib\u001b[0m\u001b[0;34m\u001b[0m\u001b[0;34m\u001b[0m\u001b[0m\n\u001b[0m\u001b[1;32m      2\u001b[0m \u001b[0mmylib\u001b[0m\u001b[0;34m.\u001b[0m\u001b[0mMyFunction\u001b[0m\u001b[0;34m(\u001b[0m\u001b[0;34m)\u001b[0m\u001b[0;34m\u001b[0m\u001b[0;34m\u001b[0m\u001b[0m\n",
            "\u001b[0;31mModuleNotFoundError\u001b[0m: No module named 'mylib'",
            "",
            "\u001b[0;31m---------------------------------------------------------------------------\u001b[0;32m\nNOTE: If your import is failing due to a missing package, you can\nmanually install dependencies using either !pip or !apt.\n\nTo view examples of installing some common dependencies, click the\n\"Open Examples\" button below.\n\u001b[0;31m---------------------------------------------------------------------------\u001b[0m\n"
          ]
        }
      ]
    },
    {
      "cell_type": "code",
      "metadata": {
        "id": "pJzZDVwlxwAZ",
        "colab_type": "code",
        "colab": {}
      },
      "source": [
        "import pandas as pd\n",
        "import numpy as np\n",
        "#import tools as t\n",
        "import seaborn as sns\n",
        "import matplotlib.pyplot as plt\n",
        "from sklearn.linear_model import Lasso\n",
        "from sklearn.externals import joblib\n",
        "from sklearn.metrics import roc_auc_score, roc_curve\n",
        "from sklearn.naive_bayes import GaussianNB\n",
        "from sklearn.model_selection import train_test_split\n",
        "from sklearn.metrics import accuracy_score\n",
        "from sklearn.preprocessing import scale\n",
        "from sklearn.metrics import classification_report\n",
        "from sklearn.metrics import confusion_matrix\n",
        "from sklearn.model_selection import GridSearchCV\n",
        "import warnings\n",
        "warnings.filterwarnings(\"ignore\")"
      ],
      "execution_count": 0,
      "outputs": []
    },
    {
      "cell_type": "code",
      "metadata": {
        "id": "6040XcoTxwAd",
        "colab_type": "code",
        "colab": {}
      },
      "source": [
        "sns.set()\n",
        "plt.style.use('ggplot')\n",
        "matplotlib.rcParams['figure.figsize'] = (10.0, 8.0)\n",
        "%load_ext autoreload \n",
        "%autoreload 2"
      ],
      "execution_count": 0,
      "outputs": []
    },
    {
      "cell_type": "code",
      "metadata": {
        "id": "ocZFIcrMyTGr",
        "colab_type": "code",
        "outputId": "394271bc-3221-42b7-d3a1-2512436b73ce",
        "colab": {
          "base_uri": "https://localhost:8080/",
          "height": 34
        }
      },
      "source": [
        "from google.colab import drive\n",
        "drive.mount('/content/drive')"
      ],
      "execution_count": 0,
      "outputs": [
        {
          "output_type": "stream",
          "text": [
            "Drive already mounted at /content/drive; to attempt to forcibly remount, call drive.mount(\"/content/drive\", force_remount=True).\n"
          ],
          "name": "stdout"
        }
      ]
    },
    {
      "cell_type": "markdown",
      "metadata": {
        "id": "lr1TgtmuxwAl",
        "colab_type": "text"
      },
      "source": [
        "Firstly, we read the dataset into a dataframe using pandas.\n"
      ]
    },
    {
      "cell_type": "code",
      "metadata": {
        "id": "9Vy7DGr7xwAq",
        "colab_type": "code",
        "outputId": "972d6946-204e-4a54-acba-b9c6f414f725",
        "colab": {
          "base_uri": "https://localhost:8080/",
          "height": 224
        }
      },
      "source": [
        "df = pd.read_excel(\"/content/drive/My Drive/Colab Notebooks/Code1/Dataset_final.xlsx\")\n",
        "df.tail()"
      ],
      "execution_count": 0,
      "outputs": [
        {
          "output_type": "execute_result",
          "data": {
            "text/html": [
              "<div>\n",
              "<style scoped>\n",
              "    .dataframe tbody tr th:only-of-type {\n",
              "        vertical-align: middle;\n",
              "    }\n",
              "\n",
              "    .dataframe tbody tr th {\n",
              "        vertical-align: top;\n",
              "    }\n",
              "\n",
              "    .dataframe thead th {\n",
              "        text-align: right;\n",
              "    }\n",
              "</style>\n",
              "<table border=\"1\" class=\"dataframe\">\n",
              "  <thead>\n",
              "    <tr style=\"text-align: right;\">\n",
              "      <th></th>\n",
              "      <th>user_id_session_date</th>\n",
              "      <th>application_count</th>\n",
              "      <th>application_nunique</th>\n",
              "      <th>category_nunique</th>\n",
              "      <th>battery_delta_sum</th>\n",
              "      <th>amount_session</th>\n",
              "      <th>notification</th>\n",
              "      <th>ratio_notification_opened_session</th>\n",
              "      <th>duration_seconds</th>\n",
              "      <th>night</th>\n",
              "      <th>morning</th>\n",
              "      <th>midday</th>\n",
              "      <th>evening</th>\n",
              "      <th>binary_labels</th>\n",
              "      <th>scores</th>\n",
              "    </tr>\n",
              "  </thead>\n",
              "  <tbody>\n",
              "    <tr>\n",
              "      <th>2232</th>\n",
              "      <td>10947T43540</td>\n",
              "      <td>5</td>\n",
              "      <td>3</td>\n",
              "      <td>2</td>\n",
              "      <td>0</td>\n",
              "      <td>1</td>\n",
              "      <td>0</td>\n",
              "      <td>0.000000</td>\n",
              "      <td>1360.000000</td>\n",
              "      <td>0.000000</td>\n",
              "      <td>0.000000</td>\n",
              "      <td>0.000000</td>\n",
              "      <td>100.000000</td>\n",
              "      <td>0</td>\n",
              "      <td>1.0</td>\n",
              "    </tr>\n",
              "    <tr>\n",
              "      <th>2233</th>\n",
              "      <td>10947T43541</td>\n",
              "      <td>62</td>\n",
              "      <td>11</td>\n",
              "      <td>6</td>\n",
              "      <td>9</td>\n",
              "      <td>23</td>\n",
              "      <td>12</td>\n",
              "      <td>0.521739</td>\n",
              "      <td>5461.000000</td>\n",
              "      <td>0.000000</td>\n",
              "      <td>0.000000</td>\n",
              "      <td>59.677419</td>\n",
              "      <td>40.322581</td>\n",
              "      <td>0</td>\n",
              "      <td>1.0</td>\n",
              "    </tr>\n",
              "    <tr>\n",
              "      <th>2234</th>\n",
              "      <td>10947T43543</td>\n",
              "      <td>84</td>\n",
              "      <td>8</td>\n",
              "      <td>5</td>\n",
              "      <td>37</td>\n",
              "      <td>2</td>\n",
              "      <td>0</td>\n",
              "      <td>0.000000</td>\n",
              "      <td>5815.000003</td>\n",
              "      <td>0.000000</td>\n",
              "      <td>0.000000</td>\n",
              "      <td>15.476190</td>\n",
              "      <td>84.523810</td>\n",
              "      <td>1</td>\n",
              "      <td>2.0</td>\n",
              "    </tr>\n",
              "    <tr>\n",
              "      <th>2235</th>\n",
              "      <td>10947T43544</td>\n",
              "      <td>13</td>\n",
              "      <td>9</td>\n",
              "      <td>6</td>\n",
              "      <td>90</td>\n",
              "      <td>1</td>\n",
              "      <td>0</td>\n",
              "      <td>0.000000</td>\n",
              "      <td>1642.000000</td>\n",
              "      <td>15.384615</td>\n",
              "      <td>7.692308</td>\n",
              "      <td>12.820513</td>\n",
              "      <td>64.102564</td>\n",
              "      <td>0</td>\n",
              "      <td>1.5</td>\n",
              "    </tr>\n",
              "    <tr>\n",
              "      <th>2236</th>\n",
              "      <td>10947T43545</td>\n",
              "      <td>61</td>\n",
              "      <td>10</td>\n",
              "      <td>7</td>\n",
              "      <td>58</td>\n",
              "      <td>10</td>\n",
              "      <td>4</td>\n",
              "      <td>0.400000</td>\n",
              "      <td>5051.000001</td>\n",
              "      <td>27.868852</td>\n",
              "      <td>31.147541</td>\n",
              "      <td>0.000000</td>\n",
              "      <td>40.983607</td>\n",
              "      <td>1</td>\n",
              "      <td>2.0</td>\n",
              "    </tr>\n",
              "  </tbody>\n",
              "</table>\n",
              "</div>"
            ],
            "text/plain": [
              "     user_id_session_date  application_count  ...  binary_labels  scores\n",
              "2232          10947T43540                  5  ...              0     1.0\n",
              "2233          10947T43541                 62  ...              0     1.0\n",
              "2234          10947T43543                 84  ...              1     2.0\n",
              "2235          10947T43544                 13  ...              0     1.5\n",
              "2236          10947T43545                 61  ...              1     2.0\n",
              "\n",
              "[5 rows x 15 columns]"
            ]
          },
          "metadata": {
            "tags": []
          },
          "execution_count": 12
        }
      ]
    },
    {
      "cell_type": "code",
      "metadata": {
        "id": "WDhGBue5xwAv",
        "colab_type": "code",
        "outputId": "f692680e-63f1-4200-ccb3-dceeaa01d7ac",
        "colab": {
          "base_uri": "https://localhost:8080/",
          "height": 68
        }
      },
      "source": [
        "print (df['binary_labels'].value_counts())"
      ],
      "execution_count": 0,
      "outputs": [
        {
          "output_type": "stream",
          "text": [
            "0    1385\n",
            "1     852\n",
            "Name: binary_labels, dtype: int64\n"
          ],
          "name": "stdout"
        }
      ]
    },
    {
      "cell_type": "markdown",
      "metadata": {
        "id": "qrQkxTyFxwA2",
        "colab_type": "text"
      },
      "source": [
        "Our dataset is imbalanced ('0' = 1385, '1' = 852) which means data sampling and evaluation must be done carefully."
      ]
    },
    {
      "cell_type": "markdown",
      "metadata": {
        "id": "6-9_J_rlxwA3",
        "colab_type": "text"
      },
      "source": [
        "A concise summary of the dataframe is given below. It shows that there a total of 14 non-null columns. "
      ]
    },
    {
      "cell_type": "code",
      "metadata": {
        "id": "k4KBg909xwA4",
        "colab_type": "code",
        "outputId": "b730d403-54de-48c5-f2ad-2b1ea5fa87fe",
        "colab": {
          "base_uri": "https://localhost:8080/",
          "height": 357
        }
      },
      "source": [
        "df.info()"
      ],
      "execution_count": 0,
      "outputs": [
        {
          "output_type": "stream",
          "text": [
            "<class 'pandas.core.frame.DataFrame'>\n",
            "RangeIndex: 2237 entries, 0 to 2236\n",
            "Data columns (total 15 columns):\n",
            "user_id_session_date                 2237 non-null object\n",
            "application_count                    2237 non-null int64\n",
            "application_nunique                  2237 non-null int64\n",
            "category_nunique                     2237 non-null int64\n",
            "battery_delta_sum                    2237 non-null int64\n",
            "amount_session                       2237 non-null int64\n",
            "notification                         2237 non-null int64\n",
            "ratio_notification_opened_session    2237 non-null float64\n",
            "duration_seconds                     2237 non-null float64\n",
            "night                                2237 non-null float64\n",
            "morning                              2237 non-null float64\n",
            "midday                               2237 non-null float64\n",
            "evening                              2237 non-null float64\n",
            "binary_labels                        2237 non-null int64\n",
            "scores                               2237 non-null float64\n",
            "dtypes: float64(7), int64(7), object(1)\n",
            "memory usage: 262.3+ KB\n"
          ],
          "name": "stdout"
        }
      ]
    },
    {
      "cell_type": "markdown",
      "metadata": {
        "id": "l5LfDogSxwA-",
        "colab_type": "text"
      },
      "source": [
        "We are going to use the Naive Bayes Classifier. "
      ]
    },
    {
      "cell_type": "code",
      "metadata": {
        "id": "CBD13OlOxwA-",
        "colab_type": "code",
        "colab": {}
      },
      "source": [
        "#reading all numeric features into X as numpy array\n",
        "X = np.asarray(df[[u'application_count', u'application_nunique',\n",
        "       u'category_nunique', u'battery_delta_sum', u'amount_session',\n",
        "       u'notification', u'ratio_notification_opened_session',\n",
        "       u'duration_seconds', u'night', u'morning', u'midday', u'evening']].dropna())\n",
        "\n",
        "#scaling features to avoid dominance of attributes with higher magnitude\n",
        "X_scaled = scale(X)\n",
        "\n",
        "#reading target feature in Y\n",
        "Y = df['binary_labels'].values"
      ],
      "execution_count": 0,
      "outputs": []
    },
    {
      "cell_type": "markdown",
      "metadata": {
        "id": "Pkg4LMRBxwBA",
        "colab_type": "text"
      },
      "source": [
        "Before proceeding for actually implementing Naive Bayes, we just check which features are more important."
      ]
    },
    {
      "cell_type": "code",
      "metadata": {
        "id": "9Yn6kE2BxwBD",
        "colab_type": "code",
        "outputId": "f7d5ebc9-4eff-444a-ec84-7cb6191ff5cb",
        "colab": {
          "base_uri": "https://localhost:8080/",
          "height": 655
        }
      },
      "source": [
        "# using lasso for feature selection\n",
        "names = df[[u'application_count', u'application_nunique',\n",
        "       u'category_nunique', u'battery_delta_sum', u'amount_session',\n",
        "       u'notification', u'ratio_notification_opened_session',\n",
        "       u'duration_seconds', u'night', u'morning', u'midday', u'evening']].columns\n",
        "\n",
        "lasso = Lasso(alpha=0.001)\n",
        "lasso_coef = lasso.fit(X_scaled, Y).coef_\n",
        "\n",
        "plt.figure(figsize=(18,8))\n",
        "_ = plt.plot(range(len(names)), lasso_coef) \n",
        "_ = plt.xticks(range(len(names)), names, rotation=70) \n",
        "_ = plt.ylabel('Coefficients') \n",
        "plt.show()"
      ],
      "execution_count": 0,
      "outputs": [
        {
          "output_type": "display_data",
          "data": {
            "image/png": "[encoded data removed]",
            "text/plain": [
              "<Figure size 1296x576 with 1 Axes>"
            ]
          },
          "metadata": {
            "tags": []
          }
        }
      ]
    },
    {
      "cell_type": "markdown",
      "metadata": {
        "id": "wUbg1V8cxwBG",
        "colab_type": "text"
      },
      "source": [
        "As Lasso zero down all unimportant features, we can see from above graph that 'application_nunique', 'battery_delta_sum', 'amount_session', 'ratio_notification_opened_session', 'duration_seconds', 'night', 'morning' and 'midday' are the most significant feature here. Let us just fit our model on these 8 features."
      ]
    },
    {
      "cell_type": "code",
      "metadata": {
        "id": "09DsPCr1xwBG",
        "colab_type": "code",
        "outputId": "41c800f0-0407-4dcf-f6ac-ec4c28ed8657",
        "colab": {
          "base_uri": "https://localhost:8080/",
          "height": 34
        }
      },
      "source": [
        "X_new = np.asarray(df[[u'application_nunique', u'battery_delta_sum', u'amount_session',\n",
        "       u'ratio_notification_opened_session', u'duration_seconds', u'night', u'morning', u'midday']].dropna())\n",
        "X_new = scale(X_new, with_mean=False)\n",
        "Xtrain, Xtest, Ytrain, Ytest = train_test_split(X_new, Y, test_size=0.15, random_state=5)\n",
        "nbc = GaussianNB()\n",
        "nbc.fit(Xtrain, Ytrain)"
      ],
      "execution_count": 0,
      "outputs": [
        {
          "output_type": "execute_result",
          "data": {
            "text/plain": [
              "GaussianNB(priors=None, var_smoothing=1e-09)"
            ]
          },
          "metadata": {
            "tags": []
          },
          "execution_count": 22
        }
      ]
    },
    {
      "cell_type": "code",
      "metadata": {
        "id": "VL3Yf5NDxwBJ",
        "colab_type": "code",
        "outputId": "b6188625-c78f-4f30-bb10-46c751ce1bd0",
        "colab": {
          "base_uri": "https://localhost:8080/",
          "height": 34
        }
      },
      "source": [
        "#printing accuracy over 20% test set\n",
        "y_pred = nbc.predict(Xtest)\n",
        "print (\"Accuracy with best features: \", accuracy_score(y_pred, Ytest))"
      ],
      "execution_count": 0,
      "outputs": [
        {
          "output_type": "stream",
          "text": [
            "Accuracy with best features:  0.6279761904761905\n"
          ],
          "name": "stdout"
        }
      ]
    },
    {
      "cell_type": "markdown",
      "metadata": {
        "id": "1Mv2Mt4qxwBL",
        "colab_type": "text"
      },
      "source": [
        "Awesome! Accuracy of our model is 62%. But wait, our dataset was imbalanced. So accuracy is not the right evaluation metric and it is better to evaluate on the basis of precision, recall and f1-score."
      ]
    },
    {
      "cell_type": "code",
      "metadata": {
        "id": "esDW_2RdxwBM",
        "colab_type": "code",
        "outputId": "b88b9d37-e9b5-4a4f-b3e3-c074cdffaf96",
        "colab": {
          "base_uri": "https://localhost:8080/",
          "height": 170
        }
      },
      "source": [
        "print (classification_report(Ytest, y_pred))"
      ],
      "execution_count": 0,
      "outputs": [
        {
          "output_type": "stream",
          "text": [
            "              precision    recall  f1-score   support\n",
            "\n",
            "           0       0.67      0.84      0.74       215\n",
            "           1       0.47      0.25      0.32       121\n",
            "\n",
            "    accuracy                           0.63       336\n",
            "   macro avg       0.57      0.54      0.53       336\n",
            "weighted avg       0.59      0.63      0.59       336\n",
            "\n"
          ],
          "name": "stdout"
        }
      ]
    },
    {
      "cell_type": "markdown",
      "metadata": {
        "id": "yNRa0UR1xwBQ",
        "colab_type": "text"
      },
      "source": [
        "f1-score is 59%. Not bad at all, considering we have not tuned a single parameter. Now lets just use all our features in Naive Bayes and see whether f1-score increases or decreases."
      ]
    },
    {
      "cell_type": "code",
      "metadata": {
        "id": "Byb2BHpzxwBR",
        "colab_type": "code",
        "outputId": "fd715884-c48c-4a25-9417-8d48b12fec2a",
        "colab": {
          "base_uri": "https://localhost:8080/",
          "height": 204
        }
      },
      "source": [
        "X_scaled = scale(np.asarray(df[[u'application_count', u'application_nunique',\n",
        "       u'category_nunique', u'battery_delta_sum', u'amount_session',\n",
        "       u'notification', u'ratio_notification_opened_session',\n",
        "       u'duration_seconds', u'night', u'morning', u'midday', u'evening']].dropna()))\n",
        "\n",
        "# Now split data using all features and repeat above process\n",
        "Xtrain, Xtest, Ytrain, Ytest = train_test_split(X_scaled, Y, test_size=0.2, random_state=5)\n",
        "\n",
        "# applying fit/predict functions\n",
        "nbc_full = GaussianNB()\n",
        "nbc_full.fit(Xtrain, Ytrain)\n",
        "y_pred = nbc_full.predict(Xtest)\n",
        "\n",
        "# evaluating predictions using different metrics\n",
        "print (\"Accuracy: \", accuracy_score(y_pred, Ytest))\n",
        "print (\"Classification Report (Precision, Recall, F1-Score)\")\n",
        "print (classification_report(Ytest, y_pred))"
      ],
      "execution_count": 0,
      "outputs": [
        {
          "output_type": "stream",
          "text": [
            "Accuracy:  0.6428571428571429\n",
            "Classification Report (Precision, Recall, F1-Score)\n",
            "              precision    recall  f1-score   support\n",
            "\n",
            "           0       0.69      0.80      0.74       286\n",
            "           1       0.51      0.37      0.43       162\n",
            "\n",
            "    accuracy                           0.64       448\n",
            "   macro avg       0.60      0.58      0.58       448\n",
            "weighted avg       0.62      0.64      0.63       448\n",
            "\n"
          ],
          "name": "stdout"
        }
      ]
    },
    {
      "cell_type": "markdown",
      "metadata": {
        "id": "hxocVBb8xwBZ",
        "colab_type": "text"
      },
      "source": [
        "Plotting ROC Curve"
      ]
    },
    {
      "cell_type": "code",
      "metadata": {
        "id": "JkKzG2skxwBZ",
        "colab_type": "code",
        "outputId": "e8422da6-d5e8-4921-8c74-fb2ad30db16c",
        "colab": {
          "base_uri": "https://localhost:8080/",
          "height": 519
        }
      },
      "source": [
        "# generate a no skill prediction (majority class)\n",
        "ns_probs = [0 for _ in range(len(Ytest))]\n",
        "# predict probabilities\n",
        "lr_probs = nbc_full.predict_proba(Xtest)\n",
        "# keep probabilities for the positive outcome only\n",
        "lr_probs = lr_probs[:, 1]\n",
        "# calculate scores\n",
        "ns_auc = roc_auc_score(Ytest, ns_probs)\n",
        "lr_auc = roc_auc_score(Ytest, lr_probs)\n",
        "# calculate roc curves\n",
        "ns_fpr, ns_tpr, _ = roc_curve(Ytest, ns_probs)\n",
        "lr_fpr, lr_tpr, _ = roc_curve(Ytest, lr_probs)\n",
        "# plot the roc curve for the model\n",
        "plt.plot(ns_fpr, ns_tpr, linestyle='--')\n",
        "plt.plot(lr_fpr, lr_tpr, marker='.')\n",
        "# axis labels\n",
        "plt.xlabel('False Positive Rate')\n",
        "plt.ylabel('True Positive Rate')\n",
        "# show the legend\n",
        "plt.legend()\n",
        "# show the plot\n",
        "plt.show()"
      ],
      "execution_count": 0,
      "outputs": [
        {
          "output_type": "stream",
          "text": [
            "No handles with labels found to put in legend.\n"
          ],
          "name": "stderr"
        },
        {
          "output_type": "display_data",
          "data": {
            "image/png": "[encoded data removed]",
            "text/plain": [
              "<Figure size 720x576 with 1 Axes>"
            ]
          },
          "metadata": {
            "tags": []
          }
        }
      ]
    },
    {
      "cell_type": "markdown",
      "metadata": {
        "id": "Gk-BmH5WxwBc",
        "colab_type": "text"
      },
      "source": [
        "<p>By using all features, f1-score increased by 5%.</p>\n",
        "But look at precision and recall of class 1, it is still low. As we have seen that our dataset was imbalanced, now we will try two different oversampling techniques on best selected features and see how it effects our results."
      ]
    },
    {
      "cell_type": "code",
      "metadata": {
        "id": "OrhygA95xwBc",
        "colab_type": "code",
        "colab": {}
      },
      "source": [
        "from imblearn.over_sampling import SMOTE\n",
        "from imblearn.over_sampling import RandomOverSampler"
      ],
      "execution_count": 0,
      "outputs": []
    },
    {
      "cell_type": "code",
      "metadata": {
        "id": "ar1cmF1JxwBf",
        "colab_type": "code",
        "colab": {}
      },
      "source": [
        "sos = SMOTE(random_state=12)\n",
        "X_resampled, y_resampled = sos.fit_sample(X_new, Y)"
      ],
      "execution_count": 0,
      "outputs": []
    },
    {
      "cell_type": "code",
      "metadata": {
        "id": "8QfvQx_PxwBm",
        "colab_type": "code",
        "outputId": "c89b3772-6385-4695-cc11-3703bdb972b2",
        "colab": {
          "base_uri": "https://localhost:8080/",
          "height": 204
        }
      },
      "source": [
        "# Now split data using all features and repeat above process\n",
        "Xtrain, Xtest, Ytrain, Ytest = train_test_split(X_resampled, y_resampled, test_size=0.2, random_state=5)\n",
        "\n",
        "# applying fit/predict functions\n",
        "nbc_smote = GaussianNB()\n",
        "nbc_smote.fit(Xtrain, Ytrain)\n",
        "y_pred = nbc_smote.predict(Xtest)\n",
        "\n",
        "# evaluating predictions using different metrics\n",
        "print (\"Accuracy: \", accuracy_score(y_pred, Ytest))\n",
        "print (\"Classification Report (Precision, Recall, F1-Score)\")\n",
        "print (classification_report(Ytest, y_pred))"
      ],
      "execution_count": 0,
      "outputs": [
        {
          "output_type": "stream",
          "text": [
            "Accuracy:  0.5848375451263538\n",
            "Classification Report (Precision, Recall, F1-Score)\n",
            "              precision    recall  f1-score   support\n",
            "\n",
            "           0       0.56      0.66      0.61       268\n",
            "           1       0.62      0.51      0.56       286\n",
            "\n",
            "    accuracy                           0.58       554\n",
            "   macro avg       0.59      0.59      0.58       554\n",
            "weighted avg       0.59      0.58      0.58       554\n",
            "\n"
          ],
          "name": "stdout"
        }
      ]
    },
    {
      "cell_type": "code",
      "metadata": {
        "id": "6AvjLAHmxwBt",
        "colab_type": "code",
        "colab": {}
      },
      "source": [
        "ros = RandomOverSampler(random_state=12)\n",
        "X_resampled, y_resampled = ros.fit_sample(X_new, Y)"
      ],
      "execution_count": 0,
      "outputs": []
    },
    {
      "cell_type": "code",
      "metadata": {
        "id": "Ne3vaWSoxwB_",
        "colab_type": "code",
        "outputId": "79cefa53-15fd-41b0-9f51-ce1d9ebe9066",
        "colab": {
          "base_uri": "https://localhost:8080/",
          "height": 204
        }
      },
      "source": [
        "# Now split data using all features and repeat above process\n",
        "Xtrain, Xtest, Ytrain, Ytest = train_test_split(X_resampled, y_resampled, test_size=0.2, random_state=5)\n",
        "\n",
        "# applying fit/predict functions\n",
        "nbc_ros = GaussianNB()\n",
        "nbc_ros.fit(Xtrain, Ytrain)\n",
        "y_pred = nbc_ros.predict(Xtest)\n",
        "\n",
        "# evaluating predictions using different metrics\n",
        "print (\"Accuracy: \", accuracy_score(y_pred, Ytest))\n",
        "print (\"Classification Report (Precision, Recall, F1-Score)\")\n",
        "print (classification_report(Ytest, y_pred))"
      ],
      "execution_count": 0,
      "outputs": [
        {
          "output_type": "stream",
          "text": [
            "Accuracy:  0.5938628158844765\n",
            "Classification Report (Precision, Recall, F1-Score)\n",
            "              precision    recall  f1-score   support\n",
            "\n",
            "           0       0.57      0.69      0.62       268\n",
            "           1       0.64      0.50      0.56       286\n",
            "\n",
            "    accuracy                           0.59       554\n",
            "   macro avg       0.60      0.60      0.59       554\n",
            "weighted avg       0.60      0.59      0.59       554\n",
            "\n"
          ],
          "name": "stdout"
        }
      ]
    },
    {
      "cell_type": "markdown",
      "metadata": {
        "id": "n8YLvkCQxwCJ",
        "colab_type": "text"
      },
      "source": [
        "Both f1-score and accuracy now seems to be more balanced. There is noteworthy improvement in precision and recall of class 1. Random oversampling performs significantly better than SMOTE. Now lets try undersampling."
      ]
    },
    {
      "cell_type": "code",
      "metadata": {
        "id": "S37D2OIVxwCK",
        "colab_type": "code",
        "colab": {}
      },
      "source": [
        "from imblearn.under_sampling import RandomUnderSampler"
      ],
      "execution_count": 0,
      "outputs": []
    },
    {
      "cell_type": "code",
      "metadata": {
        "id": "YvKQ7ALZxwCN",
        "colab_type": "code",
        "colab": {}
      },
      "source": [
        "rus = RandomUnderSampler(random_state=12)\n",
        "X_resampled, y_resampled = rus.fit_sample(X_new, Y)"
      ],
      "execution_count": 0,
      "outputs": []
    },
    {
      "cell_type": "code",
      "metadata": {
        "id": "HSIYk2LJxwCP",
        "colab_type": "code",
        "outputId": "99cf69ab-8b83-4eae-a594-6fadbea58321",
        "colab": {
          "base_uri": "https://localhost:8080/",
          "height": 204
        }
      },
      "source": [
        "# Now split data using all features and repeat above process\n",
        "Xtrain, Xtest, Ytrain, Ytest = train_test_split(X_resampled, y_resampled, test_size=0.2, random_state=5)\n",
        "\n",
        "# applying fit/predict functions\n",
        "nbc_rus = GaussianNB()\n",
        "nbc_rus.fit(Xtrain, Ytrain)\n",
        "y_pred = nbc_rus.predict(Xtest)\n",
        "\n",
        "# evaluating predictions using different metrics\n",
        "print (\"Accuracy: \", accuracy_score(y_pred, Ytest))\n",
        "print (\"Classification Report (Precision, Recall, F1-Score)\")\n",
        "print (classification_report(Ytest, y_pred))"
      ],
      "execution_count": 0,
      "outputs": [
        {
          "output_type": "stream",
          "text": [
            "Accuracy:  0.5718475073313783\n",
            "Classification Report (Precision, Recall, F1-Score)\n",
            "              precision    recall  f1-score   support\n",
            "\n",
            "           0       0.54      0.75      0.63       165\n",
            "           1       0.63      0.41      0.50       176\n",
            "\n",
            "    accuracy                           0.57       341\n",
            "   macro avg       0.59      0.58      0.56       341\n",
            "weighted avg       0.59      0.57      0.56       341\n",
            "\n"
          ],
          "name": "stdout"
        }
      ]
    },
    {
      "cell_type": "markdown",
      "metadata": {
        "id": "8JBJqxrjxwCS",
        "colab_type": "text"
      },
      "source": [
        "<b>Conclusion: </b>Oversampling yields better results than undersampling."
      ]
    },
    {
      "cell_type": "markdown",
      "metadata": {
        "id": "rOKgVJ0XxwCT",
        "colab_type": "text"
      },
      "source": [
        "Finally, lets visualize the our data distribution and decision boundary of our best performing model for better understanding."
      ]
    },
    {
      "cell_type": "code",
      "metadata": {
        "id": "uzBcf8_exwCT",
        "colab_type": "code",
        "colab": {}
      },
      "source": [
        "X_new = np.asarray(df[[u'duration_seconds', u'midday']].dropna())\n",
        "X_new = scale(X_new, with_mean=False)\n",
        "\n",
        "ros = RandomOverSampler(random_state=12)\n",
        "X_resampled, y_resampled = ros.fit_sample(X_new, Y)"
      ],
      "execution_count": 0,
      "outputs": []
    },
    {
      "cell_type": "markdown",
      "metadata": {
        "id": "n6zkdmbCxwCZ",
        "colab_type": "text"
      },
      "source": [
        "Data distribution can be seen below. Looks quite overlapped."
      ]
    },
    {
      "cell_type": "code",
      "metadata": {
        "id": "Iv3Cgw6JxwCZ",
        "colab_type": "code",
        "colab": {}
      },
      "source": [
        "#t.plotCov(X_new, Y, labels=[u'duration_seconds', u'midday'])"
      ],
      "execution_count": 0,
      "outputs": []
    },
    {
      "cell_type": "code",
      "metadata": {
        "id": "yQi2yNowxwCb",
        "colab_type": "code",
        "colab": {}
      },
      "source": [
        "# Now split data using all features and repeat above process\n",
        "Xtrain, Xtest, Ytrain, Ytest = train_test_split(X_resampled, y_resampled, test_size=0.2, random_state=5)\n",
        "\n",
        "# applying fit/predict functions\n",
        "nbc_ros = GaussianNB()\n",
        "nbc_ros.fit(Xtrain, Ytrain)\n",
        "y_pred = nbc_ros.predict(Xtest)"
      ],
      "execution_count": 0,
      "outputs": []
    },
    {
      "cell_type": "markdown",
      "metadata": {
        "id": "Ku7i4TzqxwCd",
        "colab_type": "text"
      },
      "source": [
        "Decision boundaries of trained model can be viewed below. Its is evident that the data is too overlapped and not linearly separable."
      ]
    },
    {
      "cell_type": "code",
      "metadata": {
        "id": "2pTG-WCLxwCd",
        "colab_type": "code",
        "outputId": "0403b2c3-8152-44ef-ff52-af568a0d5950",
        "colab": {
          "base_uri": "https://localhost:8080/",
          "height": 163
        }
      },
      "source": [
        "tools.plot_decision_regions(Xtrain, Ytrain, clf=nbc_ros, res=0.02, cycle_marker=True, legend=1)"
      ],
      "execution_count": 0,
      "outputs": [
        {
          "output_type": "error",
          "ename": "NameError",
          "evalue": "ignored",
          "traceback": [
            "\u001b[0;31m---------------------------------------------------------------------------\u001b[0m",
            "\u001b[0;31mNameError\u001b[0m                                 Traceback (most recent call last)",
            "\u001b[0;32m<ipython-input-38-ba2490265f5c>\u001b[0m in \u001b[0;36m<module>\u001b[0;34m()\u001b[0m\n\u001b[0;32m----> 1\u001b[0;31m \u001b[0mtools\u001b[0m\u001b[0;34m.\u001b[0m\u001b[0mplot_decision_regions\u001b[0m\u001b[0;34m(\u001b[0m\u001b[0mXtrain\u001b[0m\u001b[0;34m,\u001b[0m \u001b[0mYtrain\u001b[0m\u001b[0;34m,\u001b[0m \u001b[0mclf\u001b[0m\u001b[0;34m=\u001b[0m\u001b[0mnbc_ros\u001b[0m\u001b[0;34m,\u001b[0m \u001b[0mres\u001b[0m\u001b[0;34m=\u001b[0m\u001b[0;36m0.02\u001b[0m\u001b[0;34m,\u001b[0m \u001b[0mcycle_marker\u001b[0m\u001b[0;34m=\u001b[0m\u001b[0;32mTrue\u001b[0m\u001b[0;34m,\u001b[0m \u001b[0mlegend\u001b[0m\u001b[0;34m=\u001b[0m\u001b[0;36m1\u001b[0m\u001b[0;34m)\u001b[0m\u001b[0;34m\u001b[0m\u001b[0;34m\u001b[0m\u001b[0m\n\u001b[0m",
            "\u001b[0;31mNameError\u001b[0m: name 'tools' is not defined"
          ]
        }
      ]
    },
    {
      "cell_type": "markdown",
      "metadata": {
        "collapsed": true,
        "id": "DonWmVdHxwCf",
        "colab_type": "text"
      },
      "source": [
        "## Saving Best Model"
      ]
    },
    {
      "cell_type": "code",
      "metadata": {
        "id": "hiSpRnCCxwCg",
        "colab_type": "code",
        "colab": {}
      },
      "source": [
        "joblib.dump(nbc_ros, 'NaiveBayes.joblib')"
      ],
      "execution_count": 0,
      "outputs": []
    },
    {
      "cell_type": "code",
      "metadata": {
        "id": "y3F0X7hC21kf",
        "colab_type": "code",
        "colab": {}
      },
      "source": [
        ""
      ],
      "execution_count": 0,
      "outputs": []
    }
  ]
}